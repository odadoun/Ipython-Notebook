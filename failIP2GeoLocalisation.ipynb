{
 "metadata": {
  "name": "",
  "signature": "sha256:6914c5e0024dbea79b9f9343a2c980719a20b2d0a59672d014d1a7453fb7f238"
 },
 "nbformat": 3,
 "nbformat_minor": 0,
 "worksheets": [
  {
   "cells": [
    {
     "cell_type": "code",
     "collapsed": false,
     "input": [
      "import re\n",
      "list_ip=[]\n",
      "look_for=\"Failed password for invalid user\"#\"Failed password for root from\"\n",
      "with open(\"input/auth.log\", 'r') as file_ip:\n",
      "    for line in file_ip:\n",
      "        cleanedLine = line.strip()\n",
      "        if cleanedLine: # is not empty\n",
      "            if cleanedLine.find(look_for) != -1:\n",
      "                #print type(re.findall( r'[0-9]+(?:\\.[0-9]+){3}', cleanedLine ))\n",
      "                list_ip.append(re.findall( r'[0-9]+(?:\\.[0-9]+){3}', cleanedLine ))"
     ],
     "language": "python",
     "metadata": {},
     "outputs": [],
     "prompt_number": 8
    },
    {
     "cell_type": "code",
     "collapsed": false,
     "input": [
      "import pygeoip\n",
      "rawdata = pygeoip.GeoIP('modules/GeoLiteCity.dat')\n",
      "def ipquery(ip):\n",
      "    data = rawdata.record_by_name(ip)\n",
      "    country = data['country_name']\n",
      "    city = data['city']\n",
      "    longi = data['longitude']\n",
      "    lat = data['latitude']\n",
      "    #print '[x] '+str(city)+',' +str(country)\n",
      "    return lat,longi"
     ],
     "language": "python",
     "metadata": {},
     "outputs": [],
     "prompt_number": 9
    },
    {
     "cell_type": "code",
     "collapsed": false,
     "input": [
      "list_lat_long=[]\n",
      "for ip in list_ip:\n",
      "        list_lat_long.append((ipquery(ip[0])[0],ipquery(ip[0])[1]))\n",
      "        #print ip[0],ipquery(str(ip[0]))"
     ],
     "language": "python",
     "metadata": {},
     "outputs": [],
     "prompt_number": 10
    },
    {
     "cell_type": "code",
     "collapsed": false,
     "input": [
      "import gmaps\n",
      "map = gmaps.heatmap(list_lat_long,point_radius=20., \\\n",
      "                    max_intensity=5,height='500px', width='800px')\n",
      "gmaps??\n",
      "gmaps.display(map)"
     ],
     "language": "python",
     "metadata": {},
     "outputs": [],
     "prompt_number": 18
    },
    {
     "cell_type": "code",
     "collapsed": false,
     "input": [
      "'''\n",
      "list_lat_long=[]\n",
      "with open(\"input/test\", 'r') as file_ip:\n",
      "    for line in file_ip:\n",
      "        cleanedLine = line.strip()\n",
      "        if cleanedLine: # is not empty    \n",
      "            list_lat_long.append((ipquery(cleanedLine)[0],ipquery(cleanedLine)[1]))\n",
      "import gmaps\n",
      "map = gmaps.heatmap(list_lat_long,point_radius=10., \\\n",
      "                    max_intensity= 20,height='300px', width='600px')\n",
      "gmaps.display(map)\n",
      "'''"
     ],
     "language": "python",
     "metadata": {},
     "outputs": [],
     "prompt_number": 4
    },
    {
     "cell_type": "code",
     "collapsed": false,
     "input": [],
     "language": "python",
     "metadata": {},
     "outputs": [],
     "prompt_number": 5
    },
    {
     "cell_type": "code",
     "collapsed": false,
     "input": [
      "import gmaps"
     ],
     "language": "python",
     "metadata": {},
     "outputs": [
      {
       "javascript": [
        "\n",
        "            IPython.load_extensions('gmaps_js/heatmap_view')\n",
        "            "
       ],
       "metadata": {},
       "output_type": "display_data",
       "text": [
        "<IPython.core.display.Javascript at 0x104eeec50>"
       ]
      }
     ],
     "prompt_number": 1
    },
    {
     "cell_type": "code",
     "collapsed": false,
     "input": [],
     "language": "python",
     "metadata": {},
     "outputs": []
    },
    {
     "cell_type": "markdown",
     "metadata": {},
     "source": []
    },
    {
     "cell_type": "markdown",
     "metadata": {},
     "source": []
    }
   ],
   "metadata": {}
  }
 ]
}
