{
 "metadata": {
  "name": "",
  "signature": "sha256:6c22e10790be1bcc0901fc20e27d1b43e82d6e3946ecb7c174d2e245bb0da037"
 },
 "nbformat": 3,
 "nbformat_minor": 0,
 "worksheets": [
  {
   "cells": [
    {
     "cell_type": "code",
     "collapsed": false,
     "input": [
      "'''\n",
      "Start from the center of the matrix and fill it \"spiraly\"\n",
      "Trigo rotation\n",
      "useful reading \n",
      "http://www.introprogramming.info/tag/spiral-matrix/\n",
      "'''"
     ],
     "language": "python",
     "metadata": {},
     "outputs": []
    },
    {
     "cell_type": "code",
     "collapsed": false,
     "input": [
      "import numpy as np\n",
      "def fill_it(a,b):\n",
      "    M=np.zeros((a,b))\n",
      "    center=((a-1)/2,(b-1)/2)\n",
      "    direction_1=[(1,0),(0,-1)]#[\"Down\",\"Left\"]\n",
      "    direction_2=[(-1,0),(0,1)]# [\"Up\",\"Right\"]\n",
      "    change_direction=direction_1\n",
      "    compt_change_direction=0\n",
      "    index=center\n",
      "    comptor=1\n",
      "    number=0\n",
      "\n",
      "    while (comptor < a*b):\n",
      "            if(number %2 == 0):\n",
      "                pair=number\n",
      "                compt_change_direction+=1 \n",
      "                sequence=[]\n",
      "                for i in change_direction:\n",
      "                    tmp_sequence=[i]*compt_change_direction\n",
      "                    sequence.append(tmp_sequence)           \n",
      "                for i in  sequence:\n",
      "                    for j in i:\n",
      "                        index=tuple(map(lambda x, y: x + y, j, index))\n",
      "                    \n",
      "                        if(compt_change_direction%2==1):\n",
      "                                change_direction=direction_2\n",
      "                        else:\n",
      "                                 change_direction=direction_1 \n",
      "                        if(index[0]>=0 and index[0]<a and index[1]>=0 and index[1]<b):\n",
      "                            M[(index)]=comptor\n",
      "                            comptor+=1                \n",
      "            number+=1\n",
      "    return M        "
     ],
     "language": "python",
     "metadata": {},
     "outputs": [],
     "prompt_number": 34
    }
   ],
   "metadata": {}
  }
 ]
}