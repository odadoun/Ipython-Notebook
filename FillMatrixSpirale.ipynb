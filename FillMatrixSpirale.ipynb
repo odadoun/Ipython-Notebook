{
 "metadata": {
  "name": "",
  "signature": "sha256:9f8effe15a498fb47f0af1c2743b86042bd1d74f47fad8611ab1b904569cbd97"
 },
 "nbformat": 3,
 "nbformat_minor": 0,
 "worksheets": [
  {
   "cells": [
    {
     "cell_type": "code",
     "collapsed": false,
     "input": [
      "'''\n",
      "Start into the center of the matrix and fill it \"spiraly\"\n",
      "Trigo rotation\n",
      "'''"
     ],
     "language": "python",
     "metadata": {},
     "outputs": []
    },
    {
     "cell_type": "code",
     "collapsed": false,
     "input": [
      "import numpy as np\n",
      "a=7\n",
      "M=np.zeros((a,a))\n",
      "center=((a-1)/2,(a-1)/2)\n",
      "\n",
      "direction_1=[(1,0),(0,-1)]#[\"Down\",\"Left\"]\n",
      "direction_2=[(-1,0),(0,1)]# [\"Up\",\"Right\"]\n",
      "change_direction=direction_1\n",
      "compt_change_direction=0\n",
      "index=center\n",
      "comptor=1\n",
      "number=0\n",
      "while (comptor <= a*a):\n",
      "        if(number %2 == 0):\n",
      "            pair=number\n",
      "            #print i,\"change direction\"\n",
      "            compt_change_direction+=1\n",
      "            \n",
      "            sequence=[]\n",
      "            for i in change_direction:\n",
      "                tmp_sequence=[i]*compt_change_direction\n",
      "                sequence.append(tmp_sequence)\n",
      "            \n",
      "            #print pair,compt_change_direction\n",
      "            for i in  sequence:\n",
      "                for j in i:\n",
      "                    index=tuple(map(lambda x, y: x + y, j, index))\n",
      "                    #print index,comptor\n",
      "                    comptor+=1\n",
      "                    try:\n",
      "                        M[(index)]=comptor-1\n",
      "                    except IndexError:\n",
      "                        break\n",
      "                        \n",
      "                    \n",
      "\n",
      "            if(compt_change_direction%2==1):\n",
      "                change_direction=direction_2\n",
      "            else:\n",
      "                change_direction=direction_1\n",
      "            \n",
      "        number+=1"
     ],
     "language": "python",
     "metadata": {},
     "outputs": [],
     "prompt_number": 1
    },
    {
     "cell_type": "code",
     "collapsed": false,
     "input": [
      "print M"
     ],
     "language": "python",
     "metadata": {},
     "outputs": [
      {
       "output_type": "stream",
       "stream": "stdout",
       "text": [
        "[[ 36.  37.  38.  39.  40.  41.  42.]\n",
        " [ 35.  16.  17.  18.  19.  20.  43.]\n",
        " [ 34.  15.   4.   5.   6.  21.  44.]\n",
        " [ 33.  14.   3.   0.   7.  22.  45.]\n",
        " [ 32.  13.   2.   1.   8.  23.  46.]\n",
        " [ 31.  12.  11.  10.   9.  24.  47.]\n",
        " [ 30.  29.  28.  27.  26.  25.  48.]]\n"
       ]
      }
     ],
     "prompt_number": 2
    },
    {
     "cell_type": "code",
     "collapsed": false,
     "input": [],
     "language": "python",
     "metadata": {},
     "outputs": []
    }
   ],
   "metadata": {}
  }
 ]
}